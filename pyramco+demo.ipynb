{
 "cells": [
  {
   "cell_type": "markdown",
   "metadata": {},
   "source": [
    "welcome to the pyramco demo notebook. put your api key in the box below. leave the url as-is. click \"kernel\" above and change it to 3.6, then restart it."
   ]
  },
  {
   "cell_type": "code",
   "execution_count": null,
   "metadata": {
    "collapsed": true
   },
   "outputs": [],
   "source": [
    "ramco_api_key = 'your_ramco_api_key_goes_here'\n",
    "ramco_api_url = 'https://api.ramcoams.com/api/v2/'"
   ]
  },
  {
   "cell_type": "markdown",
   "metadata": {},
   "source": [
    "run the cell above (which sets your variables to memory,) then run the cell below to prove your variables are set properly by printing them out."
   ]
  },
  {
   "cell_type": "code",
   "execution_count": null,
   "metadata": {
    "collapsed": false,
    "scrolled": false
   },
   "outputs": [],
   "source": [
    "print(ramco_api_key)\n",
    "print(ramco_api_url)"
   ]
  },
  {
   "cell_type": "markdown",
   "metadata": {},
   "source": [
    "the result you're looking for above is:\n",
    "\n",
    "your_ramco_api_key_goes_here (or whatever you set your api key to above, hopefully!)\n",
    "https://api.ramcoams.com/api/v2/\n",
    "\n",
    "those two variables will be put in a config file later, but for now this is good enough.\n",
    "\n",
    "you can also just explicitly state those variables at the beginning of every script, like: \n",
    "\n",
    "ramco_api_key = 'your_ramco_api_key_goes_here'\n",
    "ramco_api_url = 'https://api.ramcoams.com/api/v2/'"
   ]
  },
  {
   "cell_type": "code",
   "execution_count": null,
   "metadata": {
    "collapsed": false
   },
   "outputs": [],
   "source": [
    "### test pyramco setup\n",
    "\n",
    "# first we import pyramco, which should be in the right place already\n",
    "import pyramco\n",
    "\n",
    "# set the variable 'reply' to the value of the function 'pyramco.clear_cache'\n",
    "reply = pyramco.clear_cache()\n",
    "\n",
    "# then print the content of the variable 'reply' to screen (implicitly, this means we execute that function)\n",
    "print(reply)"
   ]
  },
  {
   "cell_type": "markdown",
   "metadata": {},
   "source": [
    "assuming all is well, you should see the response:\n",
    "    \n",
    "{'ResponseCode': 204, 'ResponseText': 'Cache cleared.'}\n",
    "\n",
    "congratulations, you've just written a script that did something useful!"
   ]
  },
  {
   "cell_type": "code",
   "execution_count": null,
   "metadata": {
    "collapsed": false,
    "scrolled": true
   },
   "outputs": [],
   "source": [
    "# from now on, we import pyramco like this in every script\n",
    "import pyramco\n",
    "\n",
    "# set the variable 'metadata' to the result of running the get_entity_metadata function on the entity 'cobalt_answer'\n",
    "metadata = pyramco.get_entity_metadata('cobalt_answer')\n",
    "\n",
    "# then print the result\n",
    "print(metadata)"
   ]
  },
  {
   "cell_type": "code",
   "execution_count": null,
   "metadata": {
    "collapsed": false
   },
   "outputs": [],
   "source": [
    "# get all your active Marketing Lists from RAMCO\n",
    "\n",
    "from pprint import pprint\n",
    "import requests\n",
    "import json\n",
    "import config\n",
    "import pyramco\n",
    "\n",
    "attributes = 'ListId,ListName,Type' # fieldnames you want to return for these lists\n",
    "filters = 'StatusCode<eq>0' # optional\n",
    "max_results = '10' # optional, integer\n",
    "string_delimiter = '' # optional, any character\n",
    "\n",
    "marketing_lists = pyramco.get_entities('list',(attributes),filters=filters,max_results=max_results,string_delimiter=string_delimiter)\n",
    "pprint(marketing_lists)\n"
   ]
  },
  {
   "cell_type": "code",
   "execution_count": null,
   "metadata": {
    "collapsed": true
   },
   "outputs": [],
   "source": []
  }
 ],
 "metadata": {
  "kernelspec": {
   "display_name": "Python 3.6",
   "language": "python",
   "name": "python3.6"
  },
  "language_info": {
   "codemirror_mode": {
    "name": "ipython",
    "version": 3
   },
   "file_extension": ".py",
   "mimetype": "text/x-python",
   "name": "python",
   "nbconvert_exporter": "python",
   "pygments_lexer": "ipython3",
   "version": "3.6.0"
  }
 },
 "nbformat": 4,
 "nbformat_minor": 0
}
